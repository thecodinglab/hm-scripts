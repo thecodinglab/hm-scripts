{
 "cells": [
  {
   "cell_type": "code",
   "execution_count": 18,
   "metadata": {},
   "outputs": [
    {
     "data": {
      "text/markdown": [
       "#### Iteration 1"
      ],
      "text/plain": [
       "<IPython.core.display.Markdown object>"
      ]
     },
     "metadata": {},
     "output_type": "display_data"
    },
    {
     "data": {
      "text/latex": [
       "$\\displaystyle \\begin{aligned}& k_1 = f(x_{0}, y_{0}) = \\left[\\begin{matrix}0\\\\0\\\\-2\\end{matrix}\\right] \\\\ & k_2 = f(x_{0} + \\frac{h}{2}, y_{0} + \\frac{h}{2} \\cdot k_1) = f(0 + \\frac{0.5}{2}, \\left[\\begin{matrix}2\\\\0\\\\0\\end{matrix}\\right] + \\frac{0.5}{2} \\cdot \\left[\\begin{matrix}0\\\\0\\\\-2\\end{matrix}\\right]) = \\left[\\begin{matrix}0\\\\-0.5\\\\-1.71199216928595\\end{matrix}\\right] \\\\ & k_3 = f(x_{0} + \\frac{h}{2}, y_{0} + \\frac{h}{2} \\cdot k_2) = f(0 + \\frac{0.5}{2}, \\left[\\begin{matrix}2\\\\0\\\\0\\end{matrix}\\right] + \\frac{0.5}{2} \\cdot \\left[\\begin{matrix}0\\\\-0.5\\\\-1.71199216928595\\end{matrix}\\right]) = \\left[\\begin{matrix}-0.125\\\\-0.427998042321488\\\\-1.07200195767851\\end{matrix}\\right] \\\\ & k_4 = f(x_{0} + h, y_{0} + h \\cdot k_3) = f(0 + 0.5, \\left[\\begin{matrix}2\\\\0\\\\0\\end{matrix}\\right] + 0.5 \\cdot \\left[\\begin{matrix}-0.125\\\\-0.427998042321488\\\\-1.07200195767851\\end{matrix}\\right]) = \\left[\\begin{matrix}-0.213999021160744\\\\-0.536000978839256\\\\-1.16769633939143\\end{matrix}\\right] \\end{aligned}$"
      ],
      "text/plain": [
       "<IPython.core.display.Math object>"
      ]
     },
     "metadata": {},
     "output_type": "display_data"
    },
    {
     "data": {
      "text/latex": [
       "$\\displaystyle \\begin{aligned}& x_{1} = x_{0} + h = 0 + 0.5 = 0.5 \\\\ & y_{1} = y_{0} + \\frac{h}{6} \\cdot (k_1 + 2 \\cdot k_2 + 2 \\cdot k_3 + k_4) = \\left[\\begin{matrix}2\\\\0\\\\0\\end{matrix}\\right] + \\frac{0.5}{6} \\cdot (\\left[\\begin{matrix}0\\\\0\\\\-2\\end{matrix}\\right] + 2 \\cdot \\left[\\begin{matrix}0\\\\-0.5\\\\-1.71199216928595\\end{matrix}\\right] + 2 \\cdot \\left[\\begin{matrix}-0.125\\\\-0.427998042321488\\\\-1.07200195767851\\end{matrix}\\right] + \\left[\\begin{matrix}-0.213999021160744\\\\-0.536000978839256\\\\-1.16769633939143\\end{matrix}\\right]) = \\left[\\begin{matrix}1.96133341490327\\\\-0.199333088623519\\\\-0.72797371611003\\end{matrix}\\right] \\end{aligned}$"
      ],
      "text/plain": [
       "<IPython.core.display.Math object>"
      ]
     },
     "metadata": {},
     "output_type": "display_data"
    },
    {
     "data": {
      "text/markdown": [
       "#### Iteration 2"
      ],
      "text/plain": [
       "<IPython.core.display.Markdown object>"
      ]
     },
     "metadata": {},
     "output_type": "display_data"
    },
    {
     "data": {
      "text/latex": [
       "$\\displaystyle \\begin{aligned}& k_1 = f(x_{1}, y_{1}) = \\left[\\begin{matrix}-0.199333088623519\\\\-0.72797371611003\\\\-0.468160602754988\\end{matrix}\\right] \\\\ & k_2 = f(x_{1} + \\frac{h}{2}, y_{1} + \\frac{h}{2} \\cdot k_1) = f(0.5 + \\frac{0.5}{2}, \\left[\\begin{matrix}1.96133341490327\\\\-0.199333088623519\\\\-0.72797371611003\\end{matrix}\\right] + \\frac{0.5}{2} \\cdot \\left[\\begin{matrix}-0.199333088623519\\\\-0.72797371611003\\\\-0.468160602754988\\end{matrix}\\right]) = \\left[\\begin{matrix}-0.381326517651027\\\\-0.845013866798777\\\\0.530346146127897\\end{matrix}\\right] \\\\ & k_3 = f(x_{1} + \\frac{h}{2}, y_{1} + \\frac{h}{2} \\cdot k_2) = f(0.5 + \\frac{0.5}{2}, \\left[\\begin{matrix}1.96133341490327\\\\-0.199333088623519\\\\-0.72797371611003\\end{matrix}\\right] + \\frac{0.5}{2} \\cdot \\left[\\begin{matrix}-0.381326517651027\\\\-0.845013866798777\\\\0.530346146127897\\end{matrix}\\right]) = \\left[\\begin{matrix}-0.410586555323214\\\\-0.595387179578056\\\\-0.210716845056954\\end{matrix}\\right] \\\\ & k_4 = f(x_{1} + h, y_{1} + h \\cdot k_3) = f(0.5 + 0.5, \\left[\\begin{matrix}1.96133341490327\\\\-0.199333088623519\\\\-0.72797371611003\\end{matrix}\\right] + 0.5 \\cdot \\left[\\begin{matrix}-0.410586555323214\\\\-0.595387179578056\\\\-0.210716845056954\\end{matrix}\\right]) = \\left[\\begin{matrix}-0.497026678412547\\\\-0.833332138638507\\\\1.28542770875735\\end{matrix}\\right] \\end{aligned}$"
      ],
      "text/plain": [
       "<IPython.core.display.Math object>"
      ]
     },
     "metadata": {},
     "output_type": "display_data"
    },
    {
     "data": {
      "text/latex": [
       "$\\displaystyle \\begin{aligned}& x_{2} = x_{1} + h = 0.5 + 0.5 = 1.0 \\\\ & y_{2} = y_{1} + \\frac{h}{6} \\cdot (k_1 + 2 \\cdot k_2 + 2 \\cdot k_3 + k_4) = \\left[\\begin{matrix}1.96133341490327\\\\-0.199333088623519\\\\-0.72797371611003\\end{matrix}\\right] + \\frac{0.5}{6} \\cdot (\\left[\\begin{matrix}-0.199333088623519\\\\-0.72797371611003\\\\-0.468160602754988\\end{matrix}\\right] + 2 \\cdot \\left[\\begin{matrix}-0.381326517651027\\\\-0.845013866798777\\\\0.530346146127897\\end{matrix}\\right] + 2 \\cdot \\left[\\begin{matrix}-0.410586555323214\\\\-0.595387179578056\\\\-0.210716845056954\\end{matrix}\\right] + \\left[\\begin{matrix}-0.497026678412547\\\\-0.833332138638507\\\\1.28542770875735\\end{matrix}\\right]) = \\left[\\begin{matrix}1.77131792215456\\\\-0.56950875091537\\\\-0.606596573764676\\end{matrix}\\right] \\end{aligned}$"
      ],
      "text/plain": [
       "<IPython.core.display.Math object>"
      ]
     },
     "metadata": {},
     "output_type": "display_data"
    }
   ],
   "source": [
    "import sympy as sp\n",
    "import importlib\n",
    "\n",
    "import dgl_euler as euler\n",
    "import dgl_runge_kutta as runge_kutta\n",
    "\n",
    "importlib.reload(euler)\n",
    "importlib.reload(runge_kutta)\n",
    "\n",
    "# y''' + 5y'' + 8y' + 6y = 10e^(-x)\n",
    "\n",
    "# 1. Auflösen nach höchster Ableitung\n",
    "#   -> y''' = 10e^(-x) - 5y'' - 8y' - 6y\n",
    "# 2. Ersetzen durch neue Variable\n",
    "#   -> z_1 = y\n",
    "#   -> z_2 = y'\n",
    "#   -> z_3 = y''\n",
    "# 3. Ersetzen der Ableitungen\n",
    "#   -> z_1' = y' = z_2\n",
    "#   -> z_2' = y'' = z_3\n",
    "#   -> z_3' = y''' = 10e^(-x) - 5z_3 - 8z_2 - 6z_1\n",
    "# 4. Vektorielle Darstellung\n",
    "#   -> z' = (z_1', z_2', z_3')^T\n",
    "#         = (z_2, z_3, 10e^(-x) - 5z_3 - 8z_2 - 6z_1)^T\n",
    "#         = f(x, z)\n",
    "\n",
    "f = lambda x, z: sp.Matrix([\n",
    "    z[1],\n",
    "    z[2],\n",
    "    10 * sp.exp(-x) - 5 * z[2] - 8 * z[1] - 6 * z[0]\n",
    "])\n",
    "\n",
    "a = 0\n",
    "b = 1\n",
    "n = 2\n",
    "\n",
    "z0 = sp.Matrix([2, 0, 0])\n",
    "\n",
    "x, z = runge_kutta.classic(f, a, b, n, z0, print_steps=True)"
   ]
  }
 ],
 "metadata": {
  "kernelspec": {
   "display_name": "venv",
   "language": "python",
   "name": "python3"
  },
  "language_info": {
   "codemirror_mode": {
    "name": "ipython",
    "version": 3
   },
   "file_extension": ".py",
   "mimetype": "text/x-python",
   "name": "python",
   "nbconvert_exporter": "python",
   "pygments_lexer": "ipython3",
   "version": "3.9.6"
  },
  "orig_nbformat": 4
 },
 "nbformat": 4,
 "nbformat_minor": 2
}
