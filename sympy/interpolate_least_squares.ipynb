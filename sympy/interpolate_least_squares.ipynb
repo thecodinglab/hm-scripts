{
 "cells": [
  {
   "cell_type": "code",
   "execution_count": null,
   "metadata": {},
   "outputs": [],
   "source": [
    "import importlib\n",
    "import interpolate_least_squares\n",
    "importlib.reload(interpolate_least_squares)"
   ]
  },
  {
   "cell_type": "code",
   "execution_count": null,
   "metadata": {},
   "outputs": [],
   "source": [
    "import numpy as np\n",
    "from interpolate_least_squares import interpolate_least_squares"
   ]
  },
  {
   "cell_type": "code",
   "execution_count": null,
   "metadata": {},
   "outputs": [],
   "source": [
    "exponents = [4, 3, 2, 1, 0]\n",
    "x = np.arange(0.0, 5.0 + 1.0, 1.0)\n",
    "y = np.array([0.54, 0.44, 0.28, 0.18, 0.12, 0.08], dtype=np.float64)\n",
    "interpolate_least_squares(exponents, x, y)"
   ]
  },
  {
   "cell_type": "code",
   "execution_count": null,
   "metadata": {},
   "outputs": [],
   "source": [
    "exponents = [0, 2]\n",
    "x = np.arange(0.0, 5.0 + 1.0, 1.0)\n",
    "y = 1 / np.array([0.54, 0.44, 0.28, 0.18, 0.12, 0.08], dtype=np.float64)\n",
    "interpolate_least_squares(exponents, x, y)"
   ]
  }
 ],
 "metadata": {
  "kernelspec": {
   "display_name": "hm-exams-dKq_vQrl",
   "language": "python",
   "name": "python3"
  },
  "language_info": {
   "codemirror_mode": {
    "name": "ipython",
    "version": 3
   },
   "file_extension": ".py",
   "mimetype": "text/x-python",
   "name": "python",
   "nbconvert_exporter": "python",
   "pygments_lexer": "ipython3",
   "version": "3.11.3"
  },
  "orig_nbformat": 4
 },
 "nbformat": 4,
 "nbformat_minor": 2
}
