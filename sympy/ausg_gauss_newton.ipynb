{
 "cells": [
  {
   "cell_type": "code",
   "execution_count": 49,
   "metadata": {},
   "outputs": [
    {
     "data": {
      "text/plain": [
       "<module 'ausg_gauss_newton' from '/Users/florian/dev/github.com/thecodinglab/hm-scripts/sympy/ausg_gauss_newton.py'>"
      ]
     },
     "execution_count": 49,
     "metadata": {},
     "output_type": "execute_result"
    }
   ],
   "source": [
    "import importlib\n",
    "import ausg_gauss_newton\n",
    "importlib.reload(ausg_gauss_newton)"
   ]
  },
  {
   "cell_type": "code",
   "execution_count": 50,
   "metadata": {},
   "outputs": [
    {
     "data": {
      "text/latex": [
       "$\\displaystyle f(x) = \\left[\\begin{matrix}3.0 - a\\\\- a e^{1.0 b} + 1.0\\\\- a e^{2.0 b} + 0.5\\\\- a e^{3.0 b} + 0.2\\\\- a e^{4.0 b} + 0.05\\end{matrix}\\right]$"
      ],
      "text/plain": [
       "<IPython.core.display.Math object>"
      ]
     },
     "metadata": {},
     "output_type": "display_data"
    },
    {
     "data": {
      "text/latex": [
       "$\\displaystyle Df(x) = \\left[\\begin{matrix}-1 & 0\\\\- e^{1.0 b} & - 1.0 a e^{1.0 b}\\\\- e^{2.0 b} & - 2.0 a e^{2.0 b}\\\\- e^{3.0 b} & - 3.0 a e^{3.0 b}\\\\- e^{4.0 b} & - 4.0 a e^{4.0 b}\\end{matrix}\\right]$"
      ],
      "text/plain": [
       "<IPython.core.display.Math object>"
      ]
     },
     "metadata": {},
     "output_type": "display_data"
    },
    {
     "data": {
      "text/markdown": [
       "Iteration 1"
      ],
      "text/plain": [
       "<IPython.core.display.Markdown object>"
      ]
     },
     "metadata": {},
     "output_type": "display_data"
    },
    {
     "data": {
      "text/latex": [
       "$\\displaystyle x_{0} = \\left[\\begin{matrix}2.98941408249004\\\\0.392003140284016\\end{matrix}\\right]$"
      ],
      "text/plain": [
       "<IPython.core.display.Math object>"
      ]
     },
     "metadata": {},
     "output_type": "display_data"
    },
    {
     "data": {
      "text/latex": [
       "$\\displaystyle f(x_{0}) = \\left[\\begin{matrix}0.0105859175099616\\\\-3.42416052877286\\\\-6.04750256881382\\\\-9.48992639616414\\\\-14.2905325276701\\end{matrix}\\right]$"
      ],
      "text/plain": [
       "<IPython.core.display.Math object>"
      ]
     },
     "metadata": {},
     "output_type": "display_data"
    },
    {
     "data": {
      "text/latex": [
       "$\\displaystyle Df(x_{0}) = \\left[\\begin{matrix}-1.0 & 0\\\\-1.47994235883433 & -4.42416052877286\\\\-2.19022938547211 & -13.0950051376276\\\\-3.24141324312385 & -29.0697791884924\\\\-4.79710476098553 & -57.3621301106806\\end{matrix}\\right] \\; \\Rightarrow \\; Q_{1} R_{1}$"
      ],
      "text/plain": [
       "<IPython.core.display.Math object>"
      ]
     },
     "metadata": {},
     "output_type": "display_data"
    },
    {
     "data": {
      "text/latex": [
       "$\\displaystyle Q_{1} = \\left[\\begin{matrix}-0.974788809078441 & 0.217513517886475\\\\-0.21750478308057 & -0.877787344360869\\\\-0.048531877081817 & -0.40255102183296\\\\-0.0108289255055697 & -0.135940089412864\\\\-0.00241625988229319 & -0.0406228325970176\\end{matrix}\\right] \\quad R_{1} = \\left[\\begin{matrix}1.02586323384795 & 0.0537492495720367\\\\0 & 0.240877750901584\\end{matrix}\\right]$"
      ],
      "text/plain": [
       "<IPython.core.display.Math object>"
      ]
     },
     "metadata": {},
     "output_type": "display_data"
    },
    {
     "data": {
      "text/latex": [
       "$\\displaystyle R_{1} \\delta_{1} = -Q_{1}^T f(x_{1}) \\; \\Rightarrow \\; \\left[\\begin{matrix}1.02586323384795 & 0.0537492495720367\\\\0 & 0.240877750901584\\end{matrix}\\right] \\delta_{1} = -\\left[\\begin{matrix}-0.974788809078441 & -0.21750478308057 & -0.048531877081817 & -0.0108289255055697 & -0.00241625988229319\\\\0.217513517886475 & -0.877787344360869 & -0.40255102183296 & -0.135940089412864 & -0.0406228325970176\\end{matrix}\\right] \\left[\\begin{matrix}0.0105859175099616\\\\-3.42416052877286\\\\-6.04750256881382\\\\-9.48992639616414\\\\-14.2905325276701\\end{matrix}\\right] = \\left[\\begin{matrix}-1.16524425688351\\\\-7.31299904939777\\end{matrix}\\right]$"
      ],
      "text/plain": [
       "<IPython.core.display.Math object>"
      ]
     },
     "metadata": {},
     "output_type": "display_data"
    },
    {
     "data": {
      "text/latex": [
       "$\\displaystyle \\delta_{1} = \\left[\\begin{matrix}1.98941408249004\\\\1.89200314028402\\end{matrix}\\right]$"
      ],
      "text/plain": [
       "<IPython.core.display.Math object>"
      ]
     },
     "metadata": {},
     "output_type": "display_data"
    },
    {
     "data": {
      "text/latex": [
       "$\\displaystyle x_{1} = x_{0} + \\delta_{1} = \\left[\\begin{matrix}2.98941408249004\\\\0.392003140284016\\end{matrix}\\right] + \\left[\\begin{matrix}1.98941408249004\\\\1.89200314028402\\end{matrix}\\right] = \\left[\\begin{matrix}4.97882816498008\\\\2.28400628056803\\end{matrix}\\right]$"
      ],
      "text/plain": [
       "<IPython.core.display.Math object>"
      ]
     },
     "metadata": {},
     "output_type": "display_data"
    },
    {
     "data": {
      "text/markdown": [
       "Iteration 2"
      ],
      "text/plain": [
       "<IPython.core.display.Markdown object>"
      ]
     },
     "metadata": {},
     "output_type": "display_data"
    },
    {
     "data": {
      "text/latex": [
       "$\\displaystyle x_{1} = \\left[\\begin{matrix}1.26217882611577\\\\0.278503329133484\\end{matrix}\\right]$"
      ],
      "text/plain": [
       "<IPython.core.display.Math object>"
      ]
     },
     "metadata": {},
     "output_type": "display_data"
    },
    {
     "data": {
      "text/latex": [
       "$\\displaystyle f(x_{1}) = \\left[\\begin{matrix}1.73782117388423\\\\-0.667528822942347\\\\-1.70305737809013\\\\-2.71057146622115\\\\-3.79530441387088\\end{matrix}\\right]$"
      ],
      "text/plain": [
       "<IPython.core.display.Math object>"
      ]
     },
     "metadata": {},
     "output_type": "display_data"
    },
    {
     "data": {
      "text/latex": [
       "$\\displaystyle Df(x_{1}) = \\left[\\begin{matrix}-1.0 & 0\\\\-1.32115100367671 & -1.66752882294235\\\\-1.74543997451598 & -4.40611475618025\\\\-2.30598977418924 & -8.73171439866347\\\\-3.04656070463835 & -15.3812176554835\\end{matrix}\\right] \\; \\Rightarrow \\; Q_{2} R_{2}$"
      ],
      "text/plain": [
       "<IPython.core.display.Math object>"
      ]
     },
     "metadata": {},
     "output_type": "display_data"
    },
    {
     "data": {
      "text/latex": [
       "$\\displaystyle Q_{2} = \\left[\\begin{matrix}-0.155218308910088 & -0.498802021969021\\\\-0.229714150222671 & -0.511829017573203\\\\-0.339963701338163 & -0.42246404112483\\\\-0.503126682076449 & -0.129421904463777\\\\-0.744598488664708 & 0.542219240022994\\end{matrix}\\right] \\quad R_{2} = \\left[\\begin{matrix}6.44253894416063 & 62.8056556307482\\\\0 & -19.5440018837766\\end{matrix}\\right]$"
      ],
      "text/plain": [
       "<IPython.core.display.Math object>"
      ]
     },
     "metadata": {},
     "output_type": "display_data"
    },
    {
     "data": {
      "text/latex": [
       "$\\displaystyle R_{2} \\delta_{2} = -Q_{2}^T f(x_{2}) \\; \\Rightarrow \\; \\left[\\begin{matrix}6.44253894416063 & 62.8056556307482\\\\0 & -19.5440018837766\\end{matrix}\\right] \\delta_{2} = -\\left[\\begin{matrix}-0.155218308910088 & -0.229714150222671 & -0.339963701338163 & -0.503126682076449 & -0.744598488664708\\\\-0.498802021969021 & -0.511829017573203 & -0.42246404112483 & -0.129421904463777 & 0.542219240022994\\end{matrix}\\right] \\left[\\begin{matrix}1.73782117388423\\\\-0.667528822942347\\\\-1.70305737809013\\\\-2.71057146622115\\\\-3.79530441387088\\end{matrix}\\right] = \\left[\\begin{matrix}-4.65231560128137\\\\1.51276734509171\\end{matrix}\\right]$"
      ],
      "text/plain": [
       "<IPython.core.display.Math object>"
      ]
     },
     "metadata": {},
     "output_type": "display_data"
    },
    {
     "data": {
      "text/latex": [
       "$\\displaystyle \\delta_{2} = \\left[\\begin{matrix}-1.72723525637427\\\\-0.113499811150532\\end{matrix}\\right]$"
      ],
      "text/plain": [
       "<IPython.core.display.Math object>"
      ]
     },
     "metadata": {},
     "output_type": "display_data"
    },
    {
     "data": {
      "text/latex": [
       "$\\displaystyle x_{2} = x_{1} + \\delta_{2} = \\left[\\begin{matrix}1.26217882611577\\\\0.278503329133484\\end{matrix}\\right] + \\left[\\begin{matrix}-1.72723525637427\\\\-0.113499811150532\\end{matrix}\\right] = \\left[\\begin{matrix}-0.465056430258492\\\\0.165003517982953\\end{matrix}\\right]$"
      ],
      "text/plain": [
       "<IPython.core.display.Math object>"
      ]
     },
     "metadata": {},
     "output_type": "display_data"
    },
    {
     "data": {
      "text/markdown": [
       "Iteration 3"
      ],
      "text/plain": [
       "<IPython.core.display.Markdown object>"
      ]
     },
     "metadata": {},
     "output_type": "display_data"
    },
    {
     "data": {
      "text/latex": [
       "$\\displaystyle x_{2} = \\left[\\begin{matrix}1.58185265661733\\\\-0.06547887943327\\end{matrix}\\right]$"
      ],
      "text/plain": [
       "<IPython.core.display.Math object>"
      ]
     },
     "metadata": {},
     "output_type": "display_data"
    },
    {
     "data": {
      "text/latex": [
       "$\\displaystyle f(x_{2}) = \\left[\\begin{matrix}1.41814734338267\\\\-0.48159298205497\\\\-0.887687883123469\\\\-1.09973459937477\\\\-1.16735589778988\\end{matrix}\\right]$"
      ],
      "text/plain": [
       "<IPython.core.display.Math object>"
      ]
     },
     "metadata": {},
     "output_type": "display_data"
    },
    {
     "data": {
      "text/latex": [
       "$\\displaystyle Df(x_{2}) = \\left[\\begin{matrix}-1.0 & 0\\\\-0.936618828471194 & -1.48159298205497\\\\-0.877254829846752 & -2.77537576624694\\\\-0.821653391001761 & -3.89920379812432\\\\-0.769576036489453 & -4.86942359115951\\end{matrix}\\right] \\; \\Rightarrow \\; Q_{3} R_{3}$"
      ],
      "text/plain": [
       "<IPython.core.display.Math object>"
      ]
     },
     "metadata": {},
     "output_type": "display_data"
    },
    {
     "data": {
      "text/latex": [
       "$\\displaystyle Q_{3} = \\left[\\begin{matrix}-0.221451916059628 & -0.561508683238455\\\\-0.292571421168308 & -0.493519709981096\\\\-0.386531026723632 & -0.323948418589299\\\\-0.510665853908116 & 0.0054394732950686\\\\-0.674666705434132 & 0.579805250693503\\end{matrix}\\right] \\quad R_{3} = \\left[\\begin{matrix}4.51565295886057 & 17.0271551688015\\\\0 & -6.71529443752945\\end{matrix}\\right]$"
      ],
      "text/plain": [
       "<IPython.core.display.Math object>"
      ]
     },
     "metadata": {},
     "output_type": "display_data"
    },
    {
     "data": {
      "text/latex": [
       "$\\displaystyle R_{3} \\delta_{3} = -Q_{3}^T f(x_{3}) \\; \\Rightarrow \\; \\left[\\begin{matrix}4.51565295886057 & 17.0271551688015\\\\0 & -6.71529443752945\\end{matrix}\\right] \\delta_{3} = -\\left[\\begin{matrix}-0.221451916059628 & -0.292571421168308 & -0.386531026723632 & -0.510665853908116 & -0.674666705434132\\\\-0.561508683238455 & -0.493519709981096 & -0.323948418589299 & 0.0054394732950686 & 0.579805250693503\\end{matrix}\\right] \\left[\\begin{matrix}1.41814734338267\\\\-0.48159298205497\\\\-0.887687883123469\\\\-1.09973459937477\\\\-1.16735589778988\\end{matrix}\\right] = \\left[\\begin{matrix}-1.5191408715044\\\\0.953882388601046\\end{matrix}\\right]$"
      ],
      "text/plain": [
       "<IPython.core.display.Math object>"
      ]
     },
     "metadata": {},
     "output_type": "display_data"
    },
    {
     "data": {
      "text/latex": [
       "$\\displaystyle \\delta_{3} = \\left[\\begin{matrix}0.319673830501558\\\\-0.343982208566754\\end{matrix}\\right]$"
      ],
      "text/plain": [
       "<IPython.core.display.Math object>"
      ]
     },
     "metadata": {},
     "output_type": "display_data"
    },
    {
     "data": {
      "text/latex": [
       "$\\displaystyle x_{3} = x_{2} + \\delta_{3} = \\left[\\begin{matrix}1.58185265661733\\\\-0.06547887943327\\end{matrix}\\right] + \\left[\\begin{matrix}0.319673830501558\\\\-0.343982208566754\\end{matrix}\\right] = \\left[\\begin{matrix}1.90152648711889\\\\-0.409461088000024\\end{matrix}\\right]$"
      ],
      "text/plain": [
       "<IPython.core.display.Math object>"
      ]
     },
     "metadata": {},
     "output_type": "display_data"
    },
    {
     "data": {
      "text/markdown": [
       "Iteration 4"
      ],
      "text/plain": [
       "<IPython.core.display.Markdown object>"
      ]
     },
     "metadata": {},
     "output_type": "display_data"
    },
    {
     "data": {
      "text/latex": [
       "$\\displaystyle x_{3} = \\left[\\begin{matrix}2.42064077314897\\\\-0.519997769682695\\end{matrix}\\right]$"
      ],
      "text/plain": [
       "<IPython.core.display.Math object>"
      ]
     },
     "metadata": {},
     "output_type": "display_data"
    },
    {
     "data": {
      "text/latex": [
       "$\\displaystyle f(x_{3}) = \\left[\\begin{matrix}0.57935922685103\\\\-0.439123888590854\\\\-0.355590631078494\\\\-0.308667345315268\\\\-0.252413863349498\\end{matrix}\\right]$"
      ],
      "text/plain": [
       "<IPython.core.display.Math object>"
      ]
     },
     "metadata": {},
     "output_type": "display_data"
    },
    {
     "data": {
      "text/latex": [
       "$\\displaystyle Df(x_{3}) = \\left[\\begin{matrix}-1.0 & 0\\\\-0.594521873941139 & -1.43912388859085\\\\-0.353456258594484 & -1.71118126215699\\\\-0.210137477215817 & -1.5260020359458\\\\-0.124931326739611 & -1.20965545339799\\end{matrix}\\right] \\; \\Rightarrow \\; Q_{4} R_{4}$"
      ],
      "text/plain": [
       "<IPython.core.display.Math object>"
      ]
     },
     "metadata": {},
     "output_type": "display_data"
    },
    {
     "data": {
      "text/latex": [
       "$\\displaystyle Q_{4} = \\left[\\begin{matrix}-0.505450829094545 & -0.628823732196921\\\\-0.473414763396327 & -0.250482895627511\\\\-0.443409181073235 & 0.0824246636825861\\\\-0.415305387710185 & 0.374138313854266\\\\-0.388982845694888 & 0.628542544102698\\end{matrix}\\right] \\quad R_{4} = \\left[\\begin{matrix}1.9784318126283 & 5.44551767725537\\\\0 & -4.37712714054465\\end{matrix}\\right]$"
      ],
      "text/plain": [
       "<IPython.core.display.Math object>"
      ]
     },
     "metadata": {},
     "output_type": "display_data"
    },
    {
     "data": {
      "text/latex": [
       "$\\displaystyle R_{4} \\delta_{4} = -Q_{4}^T f(x_{4}) \\; \\Rightarrow \\; \\left[\\begin{matrix}1.9784318126283 & 5.44551767725537\\\\0 & -4.37712714054465\\end{matrix}\\right] \\delta_{4} = -\\left[\\begin{matrix}-0.505450829094545 & -0.473414763396327 & -0.443409181073235 & -0.415305387710185 & -0.388982845694888\\\\-0.628823732196921 & -0.250482895627511 & 0.0824246636825861 & 0.374138313854266 & 0.628542544102698\\end{matrix}\\right] \\left[\\begin{matrix}0.57935922685103\\\\-0.439123888590854\\\\-0.355590631078494\\\\-0.308667345315268\\\\-0.252413863349498\\end{matrix}\\right] = \\left[\\begin{matrix}-0.299098155165476\\\\0.557768378287672\\end{matrix}\\right]$"
      ],
      "text/plain": [
       "<IPython.core.display.Math object>"
      ]
     },
     "metadata": {},
     "output_type": "display_data"
    },
    {
     "data": {
      "text/latex": [
       "$\\displaystyle \\delta_{4} = \\left[\\begin{matrix}0.838788116531639\\\\-0.454518890249425\\end{matrix}\\right]$"
      ],
      "text/plain": [
       "<IPython.core.display.Math object>"
      ]
     },
     "metadata": {},
     "output_type": "display_data"
    },
    {
     "data": {
      "text/latex": [
       "$\\displaystyle x_{4} = x_{3} + \\delta_{4} = \\left[\\begin{matrix}2.42064077314897\\\\-0.519997769682695\\end{matrix}\\right] + \\left[\\begin{matrix}0.838788116531639\\\\-0.454518890249425\\end{matrix}\\right] = \\left[\\begin{matrix}3.25942888968061\\\\-0.97451665993212\\end{matrix}\\right]$"
      ],
      "text/plain": [
       "<IPython.core.display.Math object>"
      ]
     },
     "metadata": {},
     "output_type": "display_data"
    },
    {
     "data": {
      "text/markdown": [
       "Iteration 5"
      ],
      "text/plain": [
       "<IPython.core.display.Markdown object>"
      ]
     },
     "metadata": {},
     "output_type": "display_data"
    },
    {
     "data": {
      "text/latex": [
       "$\\displaystyle x_{4} = \\left[\\begin{matrix}2.90514286308961\\\\-0.855898035628138\\end{matrix}\\right]$"
      ],
      "text/plain": [
       "<IPython.core.display.Math object>"
      ]
     },
     "metadata": {},
     "output_type": "display_data"
    },
    {
     "data": {
      "text/latex": [
       "$\\displaystyle f(x_{4}) = \\left[\\begin{matrix}0.0948571369103934\\\\-0.234399394827903\\\\-0.0244980841771756\\\\-0.0228599928501108\\\\-0.0446935325627882\\end{matrix}\\right]$"
      ],
      "text/plain": [
       "<IPython.core.display.Math object>"
      ]
     },
     "metadata": {},
     "output_type": "display_data"
    },
    {
     "data": {
      "text/latex": [
       "$\\displaystyle Df(x_{4}) = \\left[\\begin{matrix}-1.0 & 0\\\\-0.424901443061951 & -1.2343993948279\\\\-0.180541236316129 & -1.04899616835435\\\\-0.0767122318429119 & -0.668579978550332\\\\-0.0325951380105562 & -0.378774130251153\\end{matrix}\\right] \\; \\Rightarrow \\; Q_{5} R_{5}$"
      ],
      "text/plain": [
       "<IPython.core.display.Math object>"
      ]
     },
     "metadata": {},
     "output_type": "display_data"
    },
    {
     "data": {
      "text/latex": [
       "$\\displaystyle Q_{5} = \\left[\\begin{matrix}-0.806306583823748 & 0.497957396808439\\\\-0.479366901185973 & -0.274426422982807\\\\-0.284994108398442 & -0.502311180916765\\\\-0.169435231387226 & -0.500272232433473\\\\-0.100732951275984 & -0.417300539557114\\end{matrix}\\right] \\quad R_{5} = \\left[\\begin{matrix}1.24022303682267 & 1.55795560891878\\\\0 & 2.52268542013363\\end{matrix}\\right]$"
      ],
      "text/plain": [
       "<IPython.core.display.Math object>"
      ]
     },
     "metadata": {},
     "output_type": "display_data"
    },
    {
     "data": {
      "text/latex": [
       "$\\displaystyle R_{5} \\delta_{5} = -Q_{5}^T f(x_{5}) \\; \\Rightarrow \\; \\left[\\begin{matrix}1.24022303682267 & 1.55795560891878\\\\0 & 2.52268542013363\\end{matrix}\\right] \\delta_{5} = -\\left[\\begin{matrix}-0.806306583823748 & -0.479366901185973 & -0.284994108398442 & -0.169435231387226 & -0.100732951275984\\\\0.497957396808439 & -0.274426422982807 & -0.502311180916765 & -0.500272232433473 & -0.417300539557114\\end{matrix}\\right] \\left[\\begin{matrix}0.0948571369103934\\\\-0.234399394827903\\\\-0.0244980841771756\\\\-0.0228599928501108\\\\-0.0446935325627882\\end{matrix}\\right] = \\left[\\begin{matrix}-0.0512365867986103\\\\-0.153952716939496\\end{matrix}\\right]$"
      ],
      "text/plain": [
       "<IPython.core.display.Math object>"
      ]
     },
     "metadata": {},
     "output_type": "display_data"
    },
    {
     "data": {
      "text/latex": [
       "$\\displaystyle \\delta_{5} = \\left[\\begin{matrix}0.484502089940636\\\\-0.335900265945443\\end{matrix}\\right]$"
      ],
      "text/plain": [
       "<IPython.core.display.Math object>"
      ]
     },
     "metadata": {},
     "output_type": "display_data"
    },
    {
     "data": {
      "text/latex": [
       "$\\displaystyle x_{5} = x_{4} + \\delta_{5} = \\left[\\begin{matrix}2.90514286308961\\\\-0.855898035628138\\end{matrix}\\right] + \\left[\\begin{matrix}0.484502089940636\\\\-0.335900265945443\\end{matrix}\\right] = \\left[\\begin{matrix}3.38964495303024\\\\-1.19179830157358\\end{matrix}\\right]$"
      ],
      "text/plain": [
       "<IPython.core.display.Math object>"
      ]
     },
     "metadata": {},
     "output_type": "display_data"
    },
    {
     "data": {
      "text/markdown": [
       "Iteration 6"
      ],
      "text/plain": [
       "<IPython.core.display.Markdown object>"
      ]
     },
     "metadata": {},
     "output_type": "display_data"
    },
    {
     "data": {
      "text/latex": [
       "$\\displaystyle x_{5} = \\left[\\begin{matrix}2.97453822081713\\\\-0.980706448779191\\end{matrix}\\right]$"
      ],
      "text/plain": [
       "<IPython.core.display.Math object>"
      ]
     },
     "metadata": {},
     "output_type": "display_data"
    },
    {
     "data": {
      "text/latex": [
       "$\\displaystyle f(x_{5}) = \\left[\\begin{matrix}0.0254617791828671\\\\-0.115588823424024\\\\0.0816028134253686\\\\0.0430817859968557\\\\-0.00885155702772492\\end{matrix}\\right]$"
      ],
      "text/plain": [
       "<IPython.core.display.Math object>"
      ]
     },
     "metadata": {},
     "output_type": "display_data"
    },
    {
     "data": {
      "text/latex": [
       "$\\displaystyle Df(x_{5}) = \\left[\\begin{matrix}-1.0 & 0\\\\-0.375046054414981 & -1.11558882342402\\\\-0.140659542932245 & -0.836794373149263\\\\-0.0527538065925532 & -0.470754642009433\\\\-0.0197851070179081 & -0.2354062281109\\end{matrix}\\right] \\; \\Rightarrow \\; Q_{6} R_{6}$"
      ],
      "text/plain": [
       "<IPython.core.display.Math object>"
      ]
     },
     "metadata": {},
     "output_type": "display_data"
    },
    {
     "data": {
      "text/latex": [
       "$\\displaystyle Q_{6} = \\left[\\begin{matrix}-0.90532644838185 & 0.386462987718808\\\\-0.384674514359599 & -0.584377561565911\\\\-0.163448756260549 & -0.566378243997938\\\\-0.0694496124017884 & -0.375805618946722\\\\-0.0295092405296131 & -0.217106071208558\\end{matrix}\\right] \\quad R_{6} = \\left[\\begin{matrix}1.10457393770763 & 0.7039090640567\\\\0 & 1.64897419208983\\end{matrix}\\right]$"
      ],
      "text/plain": [
       "<IPython.core.display.Math object>"
      ]
     },
     "metadata": {},
     "output_type": "display_data"
    },
    {
     "data": {
      "text/latex": [
       "$\\displaystyle R_{6} \\delta_{6} = -Q_{6}^T f(x_{6}) \\; \\Rightarrow \\; \\left[\\begin{matrix}1.10457393770763 & 0.7039090640567\\\\0 & 1.64897419208983\\end{matrix}\\right] \\delta_{6} = -\\left[\\begin{matrix}-0.90532644838185 & -0.384674514359599 & -0.163448756260549 & -0.0694496124017884 & -0.0295092405296131\\\\0.386462987718808 & -0.584377561565911 & -0.566378243997938 & -0.375805618946722 & -0.217106071208558\\end{matrix}\\right] \\left[\\begin{matrix}0.0254617791828671\\\\-0.115588823424024\\\\0.0816028134253686\\\\0.0430817859968557\\\\-0.00885155702772492\\end{matrix}\\right] = \\left[\\begin{matrix}-0.00534416342352205\\\\-0.0169008413777887\\end{matrix}\\right]$"
      ],
      "text/plain": [
       "<IPython.core.display.Math object>"
      ]
     },
     "metadata": {},
     "output_type": "display_data"
    },
    {
     "data": {
      "text/latex": [
       "$\\displaystyle \\delta_{6} = \\left[\\begin{matrix}0.0693953577275263\\\\-0.124808413151054\\end{matrix}\\right]$"
      ],
      "text/plain": [
       "<IPython.core.display.Math object>"
      ]
     },
     "metadata": {},
     "output_type": "display_data"
    },
    {
     "data": {
      "text/latex": [
       "$\\displaystyle x_{6} = x_{5} + \\delta_{6} = \\left[\\begin{matrix}2.97453822081713\\\\-0.980706448779191\\end{matrix}\\right] + \\left[\\begin{matrix}0.0693953577275263\\\\-0.124808413151054\\end{matrix}\\right] = \\left[\\begin{matrix}3.04393357854466\\\\-1.10551486193025\\end{matrix}\\right]$"
      ],
      "text/plain": [
       "<IPython.core.display.Math object>"
      ]
     },
     "metadata": {},
     "output_type": "display_data"
    },
    {
     "data": {
      "text/markdown": [
       "Iteration 7"
      ],
      "text/plain": [
       "<IPython.core.display.Markdown object>"
      ]
     },
     "metadata": {},
     "output_type": "display_data"
    },
    {
     "data": {
      "text/latex": [
       "$\\displaystyle x_{6} = \\left[\\begin{matrix}2.98091034385699\\\\-1.00144271181757\\end{matrix}\\right]$"
      ],
      "text/plain": [
       "<IPython.core.display.Math object>"
      ]
     },
     "metadata": {},
     "output_type": "display_data"
    },
    {
     "data": {
      "text/latex": [
       "$\\displaystyle f(x_{6}) = \\left[\\begin{matrix}0.0190896561430076\\\\-0.0950346718581991\\\\0.0977400209158655\\\\0.0522301668328159\\\\-0.00428311223993365\\end{matrix}\\right]$"
      ],
      "text/plain": [
       "<IPython.core.display.Math object>"
      ]
     },
     "metadata": {},
     "output_type": "display_data"
    },
    {
     "data": {
      "text/latex": [
       "$\\displaystyle Df(x_{6}) = \\left[\\begin{matrix}-1.0 & 0\\\\-0.367349079825506 & -1.0950346718582\\\\-0.134945346448646 & -0.804519958168269\\\\-0.0495720488446443 & -0.443309499501552\\\\-0.0182102465281451 & -0.217132448959735\\end{matrix}\\right] \\; \\Rightarrow \\; Q_{7} R_{7}$"
      ],
      "text/plain": [
       "<IPython.core.display.Math object>"
      ]
     },
     "metadata": {},
     "output_type": "display_data"
    },
    {
     "data": {
      "text/latex": [
       "$\\displaystyle Q_{7} = \\left[\\begin{matrix}-0.927031701737703 & 0.348355946261391\\\\-0.347679582054331 & -0.668880912923093\\\\-0.130395855450127 & -0.550721882709451\\\\-0.0489044510986362 & -0.319007654892474\\\\-0.0183414214278739 & -0.1618208362865\\end{matrix}\\right] \\quad R_{7} = \\left[\\begin{matrix}1.07871176155629 & 0.524321656201333\\\\0 & 1.39530501035723\\end{matrix}\\right]$"
      ],
      "text/plain": [
       "<IPython.core.display.Math object>"
      ]
     },
     "metadata": {},
     "output_type": "display_data"
    },
    {
     "data": {
      "text/latex": [
       "$\\displaystyle R_{7} \\delta_{7} = -Q_{7}^T f(x_{7}) \\; \\Rightarrow \\; \\left[\\begin{matrix}1.07871176155629 & 0.524321656201333\\\\0 & 1.39530501035723\\end{matrix}\\right] \\delta_{7} = -\\left[\\begin{matrix}-0.927031701737703 & -0.347679582054331 & -0.130395855450127 & -0.0489044510986362 & -0.0183414214278739\\\\0.348355946261391 & -0.668880912923093 & -0.550721882709451 & -0.319007654892474 & -0.1618208362865\\end{matrix}\\right] \\left[\\begin{matrix}0.0190896561430076\\\\-0.0950346718581991\\\\0.0977400209158655\\\\0.0522301668328159\\\\-0.00428311223993365\\end{matrix}\\right] = \\left[\\begin{matrix}-0.000124275660318142\\\\-0.000420578735110015\\end{matrix}\\right]$"
      ],
      "text/plain": [
       "<IPython.core.display.Math object>"
      ]
     },
     "metadata": {},
     "output_type": "display_data"
    },
    {
     "data": {
      "text/latex": [
       "$\\displaystyle \\delta_{7} = \\left[\\begin{matrix}0.00637212303985928\\\\-0.020736263038378\\end{matrix}\\right]$"
      ],
      "text/plain": [
       "<IPython.core.display.Math object>"
      ]
     },
     "metadata": {},
     "output_type": "display_data"
    },
    {
     "data": {
      "text/latex": [
       "$\\displaystyle x_{7} = x_{6} + \\delta_{7} = \\left[\\begin{matrix}2.98091034385699\\\\-1.00144271181757\\end{matrix}\\right] + \\left[\\begin{matrix}0.00637212303985928\\\\-0.020736263038378\\end{matrix}\\right] = \\left[\\begin{matrix}2.98728246689685\\\\-1.02217897485595\\end{matrix}\\right]$"
      ],
      "text/plain": [
       "<IPython.core.display.Math object>"
      ]
     },
     "metadata": {},
     "output_type": "display_data"
    },
    {
     "data": {
      "text/markdown": [
       "Iteration 8"
      ],
      "text/plain": [
       "<IPython.core.display.Markdown object>"
      ]
     },
     "metadata": {},
     "output_type": "display_data"
    },
    {
     "data": {
      "text/latex": [
       "$\\displaystyle x_{7} = \\left[\\begin{matrix}2.98160127781963\\\\-1.0031552286037\\end{matrix}\\right]$"
      ],
      "text/plain": [
       "<IPython.core.display.Math object>"
      ]
     },
     "metadata": {},
     "output_type": "display_data"
    },
    {
     "data": {
      "text/latex": [
       "$\\displaystyle f(x_{7}) = \\left[\\begin{matrix}0.0183987221803714\\\\-0.0934143910633529\\\\0.0990224985888378\\\\0.0529533194806628\\\\-0.00392503613209985\\end{matrix}\\right]$"
      ],
      "text/plain": [
       "<IPython.core.display.Math object>"
      ]
     },
     "metadata": {},
     "output_type": "display_data"
    },
    {
     "data": {
      "text/latex": [
       "$\\displaystyle Df(x_{7}) = \\left[\\begin{matrix}-1.0 & 0\\\\-0.366720526717422 & -1.09341439106335\\\\-0.134483944715903 & -0.801955002822324\\\\-0.0493180230412528 & -0.441140041558012\\\\-0.0180859313863502 & -0.215700144528399\\end{matrix}\\right] \\; \\Rightarrow \\; Q_{8} R_{8}$"
      ],
      "text/plain": [
       "<IPython.core.display.Math object>"
      ]
     },
     "metadata": {},
     "output_type": "display_data"
    },
    {
     "data": {
      "text/latex": [
       "$\\displaystyle Q_{8} = \\left[\\begin{matrix}-0.930103954496269 & 0.342246105191546\\\\-0.341672831826269 & -0.681374626199397\\\\-0.125513200372755 & -0.546789203137366\\\\-0.0461071586628858 & -0.309776686268272\\\\-0.0169374223081797 & -0.153805702852338\\end{matrix}\\right] \\quad R_{8} = \\left[\\begin{matrix}1.07514863813431 & 0.499238877410317\\\\0 & 1.35675482371883\\end{matrix}\\right]$"
      ],
      "text/plain": [
       "<IPython.core.display.Math object>"
      ]
     },
     "metadata": {},
     "output_type": "display_data"
    },
    {
     "data": {
      "text/latex": [
       "$\\displaystyle R_{8} \\delta_{8} = -Q_{8}^T f(x_{8}) \\; \\Rightarrow \\; \\left[\\begin{matrix}1.07514863813431 & 0.499238877410317\\\\0 & 1.35675482371883\\end{matrix}\\right] \\delta_{8} = -\\left[\\begin{matrix}-0.930103954496269 & -0.341672831826269 & -0.125513200372755 & -0.0461071586628858 & -0.0169374223081797\\\\0.342246105191546 & -0.681374626199397 & -0.546789203137366 & -0.309776686268272 & -0.153805702852338\\end{matrix}\\right] \\left[\\begin{matrix}0.0183987221803714\\\\-0.0934143910633529\\\\0.0990224985888378\\\\0.0529533194806628\\\\-0.00392503613209985\\end{matrix}\\right] = \\left[\\begin{matrix}-7.57455031837393 \\cdot 10^{-7}\\\\-2.64280850178095 \\cdot 10^{-6}\\end{matrix}\\right]$"
      ],
      "text/plain": [
       "<IPython.core.display.Math object>"
      ]
     },
     "metadata": {},
     "output_type": "display_data"
    },
    {
     "data": {
      "text/latex": [
       "$\\displaystyle \\delta_{8} = \\left[\\begin{matrix}0.000690933962636208\\\\-0.00171251678613425\\end{matrix}\\right]$"
      ],
      "text/plain": [
       "<IPython.core.display.Math object>"
      ]
     },
     "metadata": {},
     "output_type": "display_data"
    },
    {
     "data": {
      "text/latex": [
       "$\\displaystyle x_{8} = x_{7} + \\delta_{8} = \\left[\\begin{matrix}2.98160127781963\\\\-1.0031552286037\\end{matrix}\\right] + \\left[\\begin{matrix}0.000690933962636208\\\\-0.00171251678613425\\end{matrix}\\right] = \\left[\\begin{matrix}2.98229221178226\\\\-1.00486774538984\\end{matrix}\\right]$"
      ],
      "text/plain": [
       "<IPython.core.display.Math object>"
      ]
     },
     "metadata": {},
     "output_type": "display_data"
    },
    {
     "data": {
      "text/markdown": [
       "Iteration 9"
      ],
      "text/plain": [
       "<IPython.core.display.Markdown object>"
      ]
     },
     "metadata": {},
     "output_type": "display_data"
    },
    {
     "data": {
      "text/latex": [
       "$\\displaystyle x_{8} = \\left[\\begin{matrix}2.98165503166066\\\\-1.00327282702403\\end{matrix}\\right]$"
      ],
      "text/plain": [
       "<IPython.core.display.Math object>"
      ]
     },
     "metadata": {},
     "output_type": "display_data"
    },
    {
     "data": {
      "text/latex": [
       "$\\displaystyle f(x_{8}) = \\left[\\begin{matrix}0.0183449683393362\\\\-0.0933055251373891\\\\0.0991095688121245\\\\0.05300253760466\\\\-0.00390064783198273\\end{matrix}\\right]$"
      ],
      "text/plain": [
       "<IPython.core.display.Math object>"
      ]
     },
     "metadata": {},
     "output_type": "display_data"
    },
    {
     "data": {
      "text/latex": [
       "$\\displaystyle Df(x_{8}) = \\left[\\begin{matrix}-1.0 & 0\\\\-0.366677403498439 & -1.09330552513739\\\\-0.134452318236357 & -0.801780862375751\\\\-0.0493006269452534 & -0.44099238718602\\\\-0.0180774258791307 & -0.215602591327931\\end{matrix}\\right] \\; \\Rightarrow \\; Q_{9} R_{9}$"
      ],
      "text/plain": [
       "<IPython.core.display.Math object>"
      ]
     },
     "metadata": {},
     "output_type": "display_data"
    },
    {
     "data": {
      "text/latex": [
       "$\\displaystyle Q_{9} = \\left[\\begin{matrix}-0.930351616785608 & 0.34174450768971\\\\-0.341179034940023 & -0.682387548788916\\\\-0.125117355398147 & -0.546450192113671\\\\-0.0458831024730994 & -0.309018835167374\\\\-0.0168262755063645 & -0.153158322570158\\end{matrix}\\right] \\quad R_{9} = \\left[\\begin{matrix}1.07486243045939 & 0.497258859624362\\\\0 & 1.35371768558908\\end{matrix}\\right]$"
      ],
      "text/plain": [
       "<IPython.core.display.Math object>"
      ]
     },
     "metadata": {},
     "output_type": "display_data"
    },
    {
     "data": {
      "text/latex": [
       "$\\displaystyle R_{9} \\delta_{9} = -Q_{9}^T f(x_{9}) \\; \\Rightarrow \\; \\left[\\begin{matrix}1.07486243045939 & 0.497258859624362\\\\0 & 1.35371768558908\\end{matrix}\\right] \\delta_{9} = -\\left[\\begin{matrix}-0.930351616785608 & -0.341179034940023 & -0.125117355398147 & -0.0458831024730994 & -0.0168262755063645\\\\0.34174450768971 & -0.682387548788916 & -0.546450192113671 & -0.309018835167374 & -0.153158322570158\\end{matrix}\\right] \\left[\\begin{matrix}0.0183449683393362\\\\-0.0933055251373891\\\\0.0991095688121245\\\\0.05300253760466\\\\-0.00390064783198273\\end{matrix}\\right] = \\left[\\begin{matrix}-3.43296592060844 \\cdot 10^{-9}\\\\-1.20903632723872 \\cdot 10^{-8}\\end{matrix}\\right]$"
      ],
      "text/plain": [
       "<IPython.core.display.Math object>"
      ]
     },
     "metadata": {},
     "output_type": "display_data"
    },
    {
     "data": {
      "text/latex": [
       "$\\displaystyle \\delta_{9} = \\left[\\begin{matrix}5.37538410353839 \\cdot 10^{-5}\\\\-0.000117598420327577\\end{matrix}\\right]$"
      ],
      "text/plain": [
       "<IPython.core.display.Math object>"
      ]
     },
     "metadata": {},
     "output_type": "display_data"
    },
    {
     "data": {
      "text/latex": [
       "$\\displaystyle x_{9} = x_{8} + \\delta_{9} = \\left[\\begin{matrix}2.98165503166066\\\\-1.00327282702403\\end{matrix}\\right] + \\left[\\begin{matrix}5.37538410353839 \\cdot 10^{-5}\\\\-0.000117598420327577\\end{matrix}\\right] = \\left[\\begin{matrix}2.9817087855017\\\\-1.00339042544436\\end{matrix}\\right]$"
      ],
      "text/plain": [
       "<IPython.core.display.Math object>"
      ]
     },
     "metadata": {},
     "output_type": "display_data"
    },
    {
     "data": {
      "text/markdown": [
       "Iteration 10"
      ],
      "text/plain": [
       "<IPython.core.display.Markdown object>"
      ]
     },
     "metadata": {},
     "output_type": "display_data"
    },
    {
     "data": {
      "text/latex": [
       "$\\displaystyle x_{9} = \\left[\\begin{matrix}2.98165870537349\\\\-1.00328077640297\\end{matrix}\\right]$"
      ],
      "text/plain": [
       "<IPython.core.display.Math object>"
      ]
     },
     "metadata": {},
     "output_type": "display_data"
    },
    {
     "data": {
      "text/latex": [
       "$\\displaystyle f(x_{9}) = \\left[\\begin{matrix}0.0183412946265067\\\\-0.0932981811287876\\\\0.0991154484900084\\\\0.0530058620664292\\\\-0.00389900036169169\\end{matrix}\\right]$"
      ],
      "text/plain": [
       "<IPython.core.display.Math object>"
      ]
     },
     "metadata": {},
     "output_type": "display_data"
    },
    {
     "data": {
      "text/latex": [
       "$\\displaystyle Df(x_{9}) = \\left[\\begin{matrix}-1.0 & 0\\\\-0.366674488652395 & -1.09329818112879\\\\-0.134450180628495 & -0.801769103019983\\\\-0.0492994512311756 & -0.440982413800712\\\\-0.018076851071035 & -0.215596001446767\\end{matrix}\\right] \\; \\Rightarrow \\; Q_{10} R_{10}$"
      ],
      "text/plain": [
       "<IPython.core.display.Math object>"
      ]
     },
     "metadata": {},
     "output_type": "display_data"
    },
    {
     "data": {
      "text/latex": [
       "$\\displaystyle Q_{10} = \\left[\\begin{matrix}-0.930368590383882 & 0.341710079876456\\\\-0.341145139018465 & -0.682457001221447\\\\-0.125090213791405 & -0.546426834818543\\\\-0.045867754796097 & -0.308966820075412\\\\-0.0168186692329359 & -0.153113948016935\\end{matrix}\\right] \\quad R_{10} = \\left[\\begin{matrix}1.07484282072269 & 0.497124284202792\\\\0 & 1.3535123684574\\end{matrix}\\right]$"
      ],
      "text/plain": [
       "<IPython.core.display.Math object>"
      ]
     },
     "metadata": {},
     "output_type": "display_data"
    },
    {
     "data": {
      "text/latex": [
       "$\\displaystyle R_{10} \\delta_{10} = -Q_{10}^T f(x_{10}) \\; \\Rightarrow \\; \\left[\\begin{matrix}1.07484282072269 & 0.497124284202792\\\\0 & 1.3535123684574\\end{matrix}\\right] \\delta_{10} = -\\left[\\begin{matrix}-0.930368590383882 & -0.341145139018465 & -0.125090213791405 & -0.045867754796097 & -0.0168186692329359\\\\0.341710079876456 & -0.682457001221447 & -0.546426834818543 & -0.308966820075412 & -0.153113948016935\\end{matrix}\\right] \\left[\\begin{matrix}0.0183412946265067\\\\-0.0932981811287876\\\\0.0991154484900084\\\\0.0530058620664292\\\\-0.00389900036169169\\end{matrix}\\right] = \\left[\\begin{matrix}-1.56292263982109 \\cdot 10^{-11}\\\\-5.509089961237 \\cdot 10^{-11}\\end{matrix}\\right]$"
      ],
      "text/plain": [
       "<IPython.core.display.Math object>"
      ]
     },
     "metadata": {},
     "output_type": "display_data"
    },
    {
     "data": {
      "text/latex": [
       "$\\displaystyle \\delta_{10} = \\left[\\begin{matrix}3.67371282936379 \\cdot 10^{-6}\\\\-7.94937894238743 \\cdot 10^{-6}\\end{matrix}\\right]$"
      ],
      "text/plain": [
       "<IPython.core.display.Math object>"
      ]
     },
     "metadata": {},
     "output_type": "display_data"
    },
    {
     "data": {
      "text/latex": [
       "$\\displaystyle x_{10} = x_{9} + \\delta_{10} = \\left[\\begin{matrix}2.98165870537349\\\\-1.00328077640297\\end{matrix}\\right] + \\left[\\begin{matrix}3.67371282936379 \\cdot 10^{-6}\\\\-7.94937894238743 \\cdot 10^{-6}\\end{matrix}\\right] = \\left[\\begin{matrix}2.98166237908632\\\\-1.00328872578192\\end{matrix}\\right]$"
      ],
      "text/plain": [
       "<IPython.core.display.Math object>"
      ]
     },
     "metadata": {},
     "output_type": "display_data"
    }
   ],
   "source": [
    "import numpy as np\n",
    "import sympy as sp\n",
    "from ausg_gauss_newton import gauss_newton\n",
    "\n",
    "a, b = sp.symbols('a b')\n",
    "\n",
    "f = lambda x: a * sp.exp(b * x)\n",
    "\n",
    "data = sp.Matrix([\n",
    "    [0., 3.],\n",
    "    [1., 1.],\n",
    "    [2., 0.5],\n",
    "    [3., 0.2],\n",
    "    [4., 0.05],\n",
    "])\n",
    "\n",
    "symbols = sp.Matrix([a, b])\n",
    "\n",
    "x0 = np.array([1, -1.5])\n",
    "n = 10\n",
    "\n",
    "[a, b] = gauss_newton(data, f, symbols, x0, n, print_steps = True)"
   ]
  },
  {
   "cell_type": "code",
   "execution_count": 51,
   "metadata": {},
   "outputs": [
    {
     "data": {
      "image/png": "[encoded data removed]",
      "text/plain": [
       "<Figure size 640x480 with 1 Axes>"
      ]
     },
     "metadata": {},
     "output_type": "display_data"
    }
   ],
   "source": [
    "import matplotlib.pyplot as plt\n",
    "\n",
    "plot_range = np.linspace(0, 4, 100)\n",
    "evaluate = lambda x: a * np.exp(b * x)\n",
    "\n",
    "plt.scatter(data[:, 0], data[:, 1])\n",
    "plt.plot(plot_range, evaluate(plot_range))\n",
    "plt.show()"
   ]
  }
 ],
 "metadata": {
  "kernelspec": {
   "display_name": "venv",
   "language": "python",
   "name": "python3"
  },
  "language_info": {
   "codemirror_mode": {
    "name": "ipython",
    "version": 3
   },
   "file_extension": ".py",
   "mimetype": "text/x-python",
   "name": "python",
   "nbconvert_exporter": "python",
   "pygments_lexer": "ipython3",
   "version": "3.9.6"
  },
  "orig_nbformat": 4
 },
 "nbformat": 4,
 "nbformat_minor": 2
}
